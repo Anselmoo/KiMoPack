{
 "cells": [
  {
   "cell_type": "code",
   "execution_count": 2,
   "metadata": {},
   "outputs": [],
   "source": []
  },
  {
   "cell_type": "code",
   "execution_count": 2,
   "metadata": {},
   "outputs": [],
   "source": [
    "with open('create_and_upload_pypi.bat','w') as f:\n",
    "    f.write('python -m build'+'\\n')\n",
    "    f.write('python -m twine upload dist/*'+'\\n')\n",
    "    f.write('pause'+'\\n')"
   ]
  },
  {
   "cell_type": "code",
   "execution_count": 3,
   "metadata": {},
   "outputs": [],
   "source": [
    "with open('create_build_Anaconda.bat','w') as f:\n",
    "    f.write('conda skeleton pypi KiMoPack'+'\\n')\n",
    "    f.write('conda-build KiMoPack'+'\\n')\n",
    "    f.write('pause'+'\\n')"
   ]
  },
  {
   "cell_type": "code",
   "execution_count": null,
   "metadata": {},
   "outputs": [],
   "source": [
    "filename=\"kimopack-6.5.5-py38_0.tar.bz2\"\n",
    "folder=\"d:\\\\Dropbox\\\\coding\\\\github\\\\KiMoPack\\\\conda\""
   ]
  },
  {
   "cell_type": "code",
   "execution_count": 5,
   "metadata": {},
   "outputs": [],
   "source": [
    "types=[\"win-64\",\"win-32\",\"osx-arm64\",\"osx-64\",\"linux-s390x\",\n",
    "       \"linux-ppc64le\",\"linux-ppc64\",\"linux-armv7l\",\"linux-armv6l\",\n",
    "       \"linux-aarch64\",\"linux-64\",\"linux-32\"]\n",
    "with open('upload_anaconda.bat','w') as f:\n",
    "    for a in types:\n",
    "        f.write('anaconda upload ' + '\\\\'.join([folder,a,filename]) + '\\n')"
   ]
  },
  {
   "cell_type": "code",
   "execution_count": null,
   "metadata": {},
   "outputs": [],
   "source": []
  }
 ],
 "metadata": {
  "kernelspec": {
   "display_name": "Python 3",
   "language": "python",
   "name": "python3"
  },
  "language_info": {
   "codemirror_mode": {
    "name": "ipython",
    "version": 3
   },
   "file_extension": ".py",
   "mimetype": "text/x-python",
   "name": "python",
   "nbconvert_exporter": "python",
   "pygments_lexer": "ipython3",
   "version": "3.8.5"
  }
 },
 "nbformat": 4,
 "nbformat_minor": 4
}

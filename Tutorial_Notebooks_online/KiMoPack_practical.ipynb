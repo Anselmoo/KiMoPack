{
 "cells": [
  {
   "cell_type": "markdown",
   "metadata": {},
   "source": [
    "### Set standard imports"
   ]
  },
  {
   "cell_type": "code",
   "execution_count": 1,
   "metadata": {},
   "outputs": [
    {
     "name": "stdout",
     "output_type": "stream",
     "text": [
      "Qt was found consider switching to qt mode with %matplotlib qt (more comfortable)\n",
      "Plot_func version 7.1.18\n",
      "was imported from path:\n",
      " C:\\Users\\jensu\\anaconda3\\Lib\\site-packages\\KiMoPack\n",
      "The current working folder is:\n",
      " C:\\Users\\jensu\\Dropbox\\coding\\github\\KiMoPack\\Tutorial_Notebooks\n"
     ]
    }
   ],
   "source": [
    "import matplotlib,lmfit,os\n",
    "import matplotlib.pyplot as plt\n",
    "import numpy as np\n",
    "import pandas as pd\n",
    "%matplotlib tk\n",
    "#for more comfort use\n",
    "#matplotlib qt\n",
    "import KiMoPack.plot_func as pf\n",
    "from importlib import reload"
   ]
  },
  {
   "cell_type": "markdown",
   "metadata": {},
   "source": [
    "## Lab:\n",
    "\n",
    "The data is under Data/Practical\n",
    "\n",
    "1. Review Tutorial 0 (this file 15min)\n",
    "2. Work through Tutorial 1 (about 45min)\n",
    "3. Use the simple fit workflow tool to make a decay_analysis of the dataset \"Target_model_0.SIA\" (10 min)<br>\n",
    "3. Use the simple fit workflow tool to make a decay_analysis of the dataset \"Target_model.SIA\" (10 min)<br>\n",
    "path=os.sep.join([os.getcwd(),'Data','Practical'])\n",
    "4. Choose one:\n",
    "    1. Use the Advanded workflow tool to make a target analysis of the dataset \"Target_model_0.SIA\" and \"Target_model.SIA\" using the models you think will fit best. Hint both datasets are the same model. In target_model_0 one of the rates is much faster and the slower rate determining (1.5 h) \n",
    "    2. Analyze the dataset provided by Eric (below) (1.5 h)\n",
    "    3. Advanced: if you are used to doing TA analysis. Work on your own dataset and use my feedback (1.5 h)"
   ]
  },
  {
   "cell_type": "markdown",
   "metadata": {},
   "source": [
    "## 2. Load and inspect Data \n",
    "\n",
    "This data was provided by Eric and is rNDI in DCM (as discussed in the lecture)\n",
    "is a little bit challenging, as the data is held in three files and needs some shaping. In this type of data the wavelength and time vector are separated.  "
   ]
  },
  {
   "cell_type": "code",
   "execution_count": 3,
   "metadata": {},
   "outputs": [],
   "source": [
    "filename='spectra.txt'\n",
    "path=os.sep.join([os.getcwd(),'Data','Practical'])\n",
    "plt.close('all')\n",
    "ta=pf.TA(filename,path=path,use_same_name=False,external_time='time_ps.txt',\n",
    "         external_wave='wl.txt',sep='\\s+',transpose=True,divide_times_by=1000,\n",
    "         baseunit='ns',shift_times_by=820, data_type='differential absorption in mOD') \n",
    "#ta.Plot_RAW(0)"
   ]
  },
  {
   "cell_type": "code",
   "execution_count": 4,
   "metadata": {},
   "outputs": [],
   "source": [
    "import import_library as imp\n",
    "reload(imp)\n",
    "plt.close('all')\n",
    "ta=pf.TA(filename,path=path,conversion_function=imp.Eric_data)\n",
    "#ta.Plot_RAW(0)"
   ]
  },
  {
   "cell_type": "code",
   "execution_count": null,
   "metadata": {},
   "outputs": [],
   "source": []
  }
 ],
 "metadata": {
  "ipub": {
   "titlepage": {
    "author": "Jens Uhlig",
    "email": "jens.uhlig@chemphys.lu.se",
    "logo": "http://www.jensuhlig.de//hot_warm_cold.png",
    "subtitle": "Main Worksheet",
    "title": "Transient Absorption Worksheet"
   }
  },
  "kernelspec": {
   "display_name": "Python 3 (ipykernel)",
   "language": "python",
   "name": "python3"
  },
  "language_info": {
   "codemirror_mode": {
    "name": "ipython",
    "version": 3
   },
   "file_extension": ".py",
   "mimetype": "text/x-python",
   "name": "python",
   "nbconvert_exporter": "python",
   "pygments_lexer": "ipython3",
   "version": "3.10.9"
  }
 },
 "nbformat": 4,
 "nbformat_minor": 2
}
